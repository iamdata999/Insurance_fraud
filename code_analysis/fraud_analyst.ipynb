{
 "cells": [
  {
   "cell_type": "markdown",
   "id": "22f17ced",
   "metadata": {},
   "source": [
    "## Insurance Fraud Detection (Classification Model)"
   ]
  },
  {
   "cell_type": "markdown",
   "id": "8120037b",
   "metadata": {},
   "source": [
    "#### Exract Dataset"
   ]
  },
  {
   "cell_type": "code",
   "execution_count": 1,
   "id": "5a578fde",
   "metadata": {},
   "outputs": [
    {
     "data": {
      "text/html": [
       "<div>\n",
       "<style scoped>\n",
       "    .dataframe tbody tr th:only-of-type {\n",
       "        vertical-align: middle;\n",
       "    }\n",
       "\n",
       "    .dataframe tbody tr th {\n",
       "        vertical-align: top;\n",
       "    }\n",
       "\n",
       "    .dataframe thead th {\n",
       "        text-align: right;\n",
       "    }\n",
       "</style>\n",
       "<table border=\"1\" class=\"dataframe\">\n",
       "  <thead>\n",
       "    <tr style=\"text-align: right;\">\n",
       "      <th></th>\n",
       "      <th>months_as_customer</th>\n",
       "      <th>age</th>\n",
       "      <th>policy_number</th>\n",
       "      <th>policy_bind_date</th>\n",
       "      <th>policy_state</th>\n",
       "      <th>policy_csl</th>\n",
       "      <th>policy_deductable</th>\n",
       "      <th>policy_annual_premium</th>\n",
       "      <th>umbrella_limit</th>\n",
       "      <th>insured_zip</th>\n",
       "      <th>...</th>\n",
       "      <th>witnesses</th>\n",
       "      <th>police_report_available</th>\n",
       "      <th>total_claim_amount</th>\n",
       "      <th>injury_claim</th>\n",
       "      <th>property_claim</th>\n",
       "      <th>vehicle_claim</th>\n",
       "      <th>auto_make</th>\n",
       "      <th>auto_model</th>\n",
       "      <th>auto_year</th>\n",
       "      <th>isFraud</th>\n",
       "    </tr>\n",
       "  </thead>\n",
       "  <tbody>\n",
       "    <tr>\n",
       "      <th>995</th>\n",
       "      <td>3</td>\n",
       "      <td>38</td>\n",
       "      <td>941851</td>\n",
       "      <td>16/7/1991</td>\n",
       "      <td>OH</td>\n",
       "      <td>500/1000</td>\n",
       "      <td>1000</td>\n",
       "      <td>1310.80</td>\n",
       "      <td>0</td>\n",
       "      <td>431289</td>\n",
       "      <td>...</td>\n",
       "      <td>1</td>\n",
       "      <td>?</td>\n",
       "      <td>87200</td>\n",
       "      <td>17440</td>\n",
       "      <td>8720</td>\n",
       "      <td>61040</td>\n",
       "      <td>Honda</td>\n",
       "      <td>Accord</td>\n",
       "      <td>2006</td>\n",
       "      <td>N</td>\n",
       "    </tr>\n",
       "    <tr>\n",
       "      <th>996</th>\n",
       "      <td>285</td>\n",
       "      <td>41</td>\n",
       "      <td>186934</td>\n",
       "      <td>5/1/2014</td>\n",
       "      <td>IL</td>\n",
       "      <td>100/300</td>\n",
       "      <td>1000</td>\n",
       "      <td>1436.79</td>\n",
       "      <td>0</td>\n",
       "      <td>608177</td>\n",
       "      <td>...</td>\n",
       "      <td>3</td>\n",
       "      <td>?</td>\n",
       "      <td>108480</td>\n",
       "      <td>18080</td>\n",
       "      <td>18080</td>\n",
       "      <td>72320</td>\n",
       "      <td>Volkswagen</td>\n",
       "      <td>Passat</td>\n",
       "      <td>2015</td>\n",
       "      <td>N</td>\n",
       "    </tr>\n",
       "    <tr>\n",
       "      <th>997</th>\n",
       "      <td>130</td>\n",
       "      <td>34</td>\n",
       "      <td>918516</td>\n",
       "      <td>17/2/2003</td>\n",
       "      <td>OH</td>\n",
       "      <td>250/500</td>\n",
       "      <td>500</td>\n",
       "      <td>1383.49</td>\n",
       "      <td>3000000</td>\n",
       "      <td>442797</td>\n",
       "      <td>...</td>\n",
       "      <td>3</td>\n",
       "      <td>YES</td>\n",
       "      <td>67500</td>\n",
       "      <td>7500</td>\n",
       "      <td>7500</td>\n",
       "      <td>52500</td>\n",
       "      <td>Suburu</td>\n",
       "      <td>Impreza</td>\n",
       "      <td>1996</td>\n",
       "      <td>N</td>\n",
       "    </tr>\n",
       "    <tr>\n",
       "      <th>998</th>\n",
       "      <td>458</td>\n",
       "      <td>62</td>\n",
       "      <td>533940</td>\n",
       "      <td>18/11/2011</td>\n",
       "      <td>IL</td>\n",
       "      <td>500/1000</td>\n",
       "      <td>2000</td>\n",
       "      <td>1356.92</td>\n",
       "      <td>5000000</td>\n",
       "      <td>441714</td>\n",
       "      <td>...</td>\n",
       "      <td>1</td>\n",
       "      <td>YES</td>\n",
       "      <td>46980</td>\n",
       "      <td>5220</td>\n",
       "      <td>5220</td>\n",
       "      <td>36540</td>\n",
       "      <td>Audi</td>\n",
       "      <td>A5</td>\n",
       "      <td>1998</td>\n",
       "      <td>N</td>\n",
       "    </tr>\n",
       "    <tr>\n",
       "      <th>999</th>\n",
       "      <td>456</td>\n",
       "      <td>60</td>\n",
       "      <td>556080</td>\n",
       "      <td>11/11/1996</td>\n",
       "      <td>OH</td>\n",
       "      <td>250/500</td>\n",
       "      <td>1000</td>\n",
       "      <td>766.19</td>\n",
       "      <td>0</td>\n",
       "      <td>612260</td>\n",
       "      <td>...</td>\n",
       "      <td>3</td>\n",
       "      <td>?</td>\n",
       "      <td>5060</td>\n",
       "      <td>460</td>\n",
       "      <td>920</td>\n",
       "      <td>3680</td>\n",
       "      <td>Mercedes</td>\n",
       "      <td>E400</td>\n",
       "      <td>2007</td>\n",
       "      <td>N</td>\n",
       "    </tr>\n",
       "  </tbody>\n",
       "</table>\n",
       "<p>5 rows × 39 columns</p>\n",
       "</div>"
      ],
      "text/plain": [
       "     months_as_customer  age  policy_number policy_bind_date policy_state  \\\n",
       "995                   3   38         941851        16/7/1991           OH   \n",
       "996                 285   41         186934         5/1/2014           IL   \n",
       "997                 130   34         918516        17/2/2003           OH   \n",
       "998                 458   62         533940       18/11/2011           IL   \n",
       "999                 456   60         556080       11/11/1996           OH   \n",
       "\n",
       "    policy_csl  policy_deductable  policy_annual_premium  umbrella_limit  \\\n",
       "995   500/1000               1000                1310.80               0   \n",
       "996    100/300               1000                1436.79               0   \n",
       "997    250/500                500                1383.49         3000000   \n",
       "998   500/1000               2000                1356.92         5000000   \n",
       "999    250/500               1000                 766.19               0   \n",
       "\n",
       "     insured_zip  ... witnesses police_report_available total_claim_amount  \\\n",
       "995       431289  ...         1                       ?              87200   \n",
       "996       608177  ...         3                       ?             108480   \n",
       "997       442797  ...         3                     YES              67500   \n",
       "998       441714  ...         1                     YES              46980   \n",
       "999       612260  ...         3                       ?               5060   \n",
       "\n",
       "    injury_claim property_claim  vehicle_claim   auto_make auto_model  \\\n",
       "995        17440           8720          61040       Honda     Accord   \n",
       "996        18080          18080          72320  Volkswagen     Passat   \n",
       "997         7500           7500          52500      Suburu    Impreza   \n",
       "998         5220           5220          36540        Audi         A5   \n",
       "999          460            920           3680    Mercedes       E400   \n",
       "\n",
       "    auto_year isFraud  \n",
       "995      2006       N  \n",
       "996      2015       N  \n",
       "997      1996       N  \n",
       "998      1998       N  \n",
       "999      2007       N  \n",
       "\n",
       "[5 rows x 39 columns]"
      ]
     },
     "execution_count": 1,
     "metadata": {},
     "output_type": "execute_result"
    }
   ],
   "source": [
    "import pandas as pd\n",
    "import numpy as np\n",
    "import matplotlib.pyplot as plt\n",
    "import seaborn as sns\n",
    "from sklearn.preprocessing import LabelEncoder\n",
    "from sklearn.model_selection import train_test_split\n",
    "from sklearn.ensemble import RandomForestClassifier\n",
    "from sklearn.metrics import classification_report, confusion_matrix\n",
    "from sklearn.linear_model import LogisticRegression\n",
    "from imblearn.over_sampling import SMOTE\n",
    "import plotly.express as px\n",
    "\n",
    "\n",
    "\n",
    "# Load the dataset\n",
    "df = pd.read_csv('C:\\dataset1\\Insurance_fraud\\dataset\\insurance_claims.csv')\n",
    "df.head()\n",
    "df.tail()"
   ]
  },
  {
   "cell_type": "markdown",
   "id": "4b790195",
   "metadata": {},
   "source": [
    "#### discover the dataset"
   ]
  },
  {
   "cell_type": "code",
   "execution_count": 2,
   "id": "ea2495cf",
   "metadata": {},
   "outputs": [
    {
     "name": "stdout",
     "output_type": "stream",
     "text": [
      "<class 'pandas.core.frame.DataFrame'>\n",
      "RangeIndex: 1000 entries, 0 to 999\n",
      "Data columns (total 39 columns):\n",
      " #   Column                       Non-Null Count  Dtype  \n",
      "---  ------                       --------------  -----  \n",
      " 0   months_as_customer           1000 non-null   int64  \n",
      " 1   age                          1000 non-null   int64  \n",
      " 2   policy_number                1000 non-null   int64  \n",
      " 3   policy_bind_date             1000 non-null   object \n",
      " 4   policy_state                 1000 non-null   object \n",
      " 5   policy_csl                   1000 non-null   object \n",
      " 6   policy_deductable            1000 non-null   int64  \n",
      " 7   policy_annual_premium        1000 non-null   float64\n",
      " 8   umbrella_limit               1000 non-null   int64  \n",
      " 9   insured_zip                  1000 non-null   int64  \n",
      " 10  insured_sex                  1000 non-null   object \n",
      " 11  insured_education_level      1000 non-null   object \n",
      " 12  insured_occupation           1000 non-null   object \n",
      " 13  insured_hobbies              1000 non-null   object \n",
      " 14  insured_relationship         1000 non-null   object \n",
      " 15  capital-gains                1000 non-null   int64  \n",
      " 16  capital-loss                 1000 non-null   int64  \n",
      " 17  incident_date                1000 non-null   object \n",
      " 18  incident_type                1000 non-null   object \n",
      " 19  collision_type               1000 non-null   object \n",
      " 20  incident_severity            1000 non-null   object \n",
      " 21  authorities_contacted        1000 non-null   object \n",
      " 22  incident_state               1000 non-null   object \n",
      " 23  incident_city                1000 non-null   object \n",
      " 24  incident_location            1000 non-null   object \n",
      " 25  incident_hour_of_the_day     1000 non-null   int64  \n",
      " 26  number_of_vehicles_involved  1000 non-null   int64  \n",
      " 27  property_damage              1000 non-null   object \n",
      " 28  bodily_injuries              1000 non-null   int64  \n",
      " 29  witnesses                    1000 non-null   int64  \n",
      " 30  police_report_available      1000 non-null   object \n",
      " 31  total_claim_amount           1000 non-null   int64  \n",
      " 32  injury_claim                 1000 non-null   int64  \n",
      " 33  property_claim               1000 non-null   int64  \n",
      " 34  vehicle_claim                1000 non-null   int64  \n",
      " 35  auto_make                    1000 non-null   object \n",
      " 36  auto_model                   1000 non-null   object \n",
      " 37  auto_year                    1000 non-null   int64  \n",
      " 38  isFraud                      1000 non-null   object \n",
      "dtypes: float64(1), int64(17), object(21)\n",
      "memory usage: 304.8+ KB\n"
     ]
    }
   ],
   "source": [
    "df.shape\n",
    "df.info()"
   ]
  },
  {
   "cell_type": "code",
   "execution_count": 3,
   "id": "915a9e48",
   "metadata": {},
   "outputs": [
    {
     "data": {
      "text/html": [
       "<div>\n",
       "<style scoped>\n",
       "    .dataframe tbody tr th:only-of-type {\n",
       "        vertical-align: middle;\n",
       "    }\n",
       "\n",
       "    .dataframe tbody tr th {\n",
       "        vertical-align: top;\n",
       "    }\n",
       "\n",
       "    .dataframe thead th {\n",
       "        text-align: right;\n",
       "    }\n",
       "</style>\n",
       "<table border=\"1\" class=\"dataframe\">\n",
       "  <thead>\n",
       "    <tr style=\"text-align: right;\">\n",
       "      <th></th>\n",
       "      <th>months_as_customer</th>\n",
       "      <th>age</th>\n",
       "      <th>policy_number</th>\n",
       "      <th>policy_deductable</th>\n",
       "      <th>policy_annual_premium</th>\n",
       "      <th>umbrella_limit</th>\n",
       "      <th>insured_zip</th>\n",
       "      <th>capital-gains</th>\n",
       "      <th>capital-loss</th>\n",
       "      <th>incident_hour_of_the_day</th>\n",
       "      <th>number_of_vehicles_involved</th>\n",
       "      <th>bodily_injuries</th>\n",
       "      <th>witnesses</th>\n",
       "      <th>total_claim_amount</th>\n",
       "      <th>injury_claim</th>\n",
       "      <th>property_claim</th>\n",
       "      <th>vehicle_claim</th>\n",
       "      <th>auto_year</th>\n",
       "    </tr>\n",
       "  </thead>\n",
       "  <tbody>\n",
       "    <tr>\n",
       "      <th>count</th>\n",
       "      <td>1000.000000</td>\n",
       "      <td>1000.000000</td>\n",
       "      <td>1000.000000</td>\n",
       "      <td>1000.000000</td>\n",
       "      <td>1000.000000</td>\n",
       "      <td>1.000000e+03</td>\n",
       "      <td>1000.000000</td>\n",
       "      <td>1000.000000</td>\n",
       "      <td>1000.000000</td>\n",
       "      <td>1000.000000</td>\n",
       "      <td>1000.00000</td>\n",
       "      <td>1000.000000</td>\n",
       "      <td>1000.000000</td>\n",
       "      <td>1000.00000</td>\n",
       "      <td>1000.000000</td>\n",
       "      <td>1000.000000</td>\n",
       "      <td>1000.000000</td>\n",
       "      <td>1000.000000</td>\n",
       "    </tr>\n",
       "    <tr>\n",
       "      <th>mean</th>\n",
       "      <td>203.954000</td>\n",
       "      <td>38.948000</td>\n",
       "      <td>546238.648000</td>\n",
       "      <td>1136.000000</td>\n",
       "      <td>1256.406150</td>\n",
       "      <td>1.101000e+06</td>\n",
       "      <td>501214.488000</td>\n",
       "      <td>25126.100000</td>\n",
       "      <td>-26793.700000</td>\n",
       "      <td>11.644000</td>\n",
       "      <td>1.83900</td>\n",
       "      <td>0.992000</td>\n",
       "      <td>1.487000</td>\n",
       "      <td>52761.94000</td>\n",
       "      <td>7433.420000</td>\n",
       "      <td>7399.570000</td>\n",
       "      <td>37928.950000</td>\n",
       "      <td>2005.103000</td>\n",
       "    </tr>\n",
       "    <tr>\n",
       "      <th>std</th>\n",
       "      <td>115.113174</td>\n",
       "      <td>9.140287</td>\n",
       "      <td>257063.005276</td>\n",
       "      <td>611.864673</td>\n",
       "      <td>244.167395</td>\n",
       "      <td>2.297407e+06</td>\n",
       "      <td>71701.610941</td>\n",
       "      <td>27872.187708</td>\n",
       "      <td>28104.096686</td>\n",
       "      <td>6.951373</td>\n",
       "      <td>1.01888</td>\n",
       "      <td>0.820127</td>\n",
       "      <td>1.111335</td>\n",
       "      <td>26401.53319</td>\n",
       "      <td>4880.951853</td>\n",
       "      <td>4824.726179</td>\n",
       "      <td>18886.252893</td>\n",
       "      <td>6.015861</td>\n",
       "    </tr>\n",
       "    <tr>\n",
       "      <th>min</th>\n",
       "      <td>0.000000</td>\n",
       "      <td>19.000000</td>\n",
       "      <td>100804.000000</td>\n",
       "      <td>500.000000</td>\n",
       "      <td>433.330000</td>\n",
       "      <td>-1.000000e+06</td>\n",
       "      <td>430104.000000</td>\n",
       "      <td>0.000000</td>\n",
       "      <td>-111100.000000</td>\n",
       "      <td>0.000000</td>\n",
       "      <td>1.00000</td>\n",
       "      <td>0.000000</td>\n",
       "      <td>0.000000</td>\n",
       "      <td>100.00000</td>\n",
       "      <td>0.000000</td>\n",
       "      <td>0.000000</td>\n",
       "      <td>70.000000</td>\n",
       "      <td>1995.000000</td>\n",
       "    </tr>\n",
       "    <tr>\n",
       "      <th>25%</th>\n",
       "      <td>115.750000</td>\n",
       "      <td>32.000000</td>\n",
       "      <td>335980.250000</td>\n",
       "      <td>500.000000</td>\n",
       "      <td>1089.607500</td>\n",
       "      <td>0.000000e+00</td>\n",
       "      <td>448404.500000</td>\n",
       "      <td>0.000000</td>\n",
       "      <td>-51500.000000</td>\n",
       "      <td>6.000000</td>\n",
       "      <td>1.00000</td>\n",
       "      <td>0.000000</td>\n",
       "      <td>1.000000</td>\n",
       "      <td>41812.50000</td>\n",
       "      <td>4295.000000</td>\n",
       "      <td>4445.000000</td>\n",
       "      <td>30292.500000</td>\n",
       "      <td>2000.000000</td>\n",
       "    </tr>\n",
       "    <tr>\n",
       "      <th>50%</th>\n",
       "      <td>199.500000</td>\n",
       "      <td>38.000000</td>\n",
       "      <td>533135.000000</td>\n",
       "      <td>1000.000000</td>\n",
       "      <td>1257.200000</td>\n",
       "      <td>0.000000e+00</td>\n",
       "      <td>466445.500000</td>\n",
       "      <td>0.000000</td>\n",
       "      <td>-23250.000000</td>\n",
       "      <td>12.000000</td>\n",
       "      <td>1.00000</td>\n",
       "      <td>1.000000</td>\n",
       "      <td>1.000000</td>\n",
       "      <td>58055.00000</td>\n",
       "      <td>6775.000000</td>\n",
       "      <td>6750.000000</td>\n",
       "      <td>42100.000000</td>\n",
       "      <td>2005.000000</td>\n",
       "    </tr>\n",
       "    <tr>\n",
       "      <th>75%</th>\n",
       "      <td>276.250000</td>\n",
       "      <td>44.000000</td>\n",
       "      <td>759099.750000</td>\n",
       "      <td>2000.000000</td>\n",
       "      <td>1415.695000</td>\n",
       "      <td>0.000000e+00</td>\n",
       "      <td>603251.000000</td>\n",
       "      <td>51025.000000</td>\n",
       "      <td>0.000000</td>\n",
       "      <td>17.000000</td>\n",
       "      <td>3.00000</td>\n",
       "      <td>2.000000</td>\n",
       "      <td>2.000000</td>\n",
       "      <td>70592.50000</td>\n",
       "      <td>11305.000000</td>\n",
       "      <td>10885.000000</td>\n",
       "      <td>50822.500000</td>\n",
       "      <td>2010.000000</td>\n",
       "    </tr>\n",
       "    <tr>\n",
       "      <th>max</th>\n",
       "      <td>479.000000</td>\n",
       "      <td>64.000000</td>\n",
       "      <td>999435.000000</td>\n",
       "      <td>2000.000000</td>\n",
       "      <td>2047.590000</td>\n",
       "      <td>1.000000e+07</td>\n",
       "      <td>620962.000000</td>\n",
       "      <td>100500.000000</td>\n",
       "      <td>0.000000</td>\n",
       "      <td>23.000000</td>\n",
       "      <td>4.00000</td>\n",
       "      <td>2.000000</td>\n",
       "      <td>3.000000</td>\n",
       "      <td>114920.00000</td>\n",
       "      <td>21450.000000</td>\n",
       "      <td>23670.000000</td>\n",
       "      <td>79560.000000</td>\n",
       "      <td>2015.000000</td>\n",
       "    </tr>\n",
       "  </tbody>\n",
       "</table>\n",
       "</div>"
      ],
      "text/plain": [
       "       months_as_customer          age  policy_number  policy_deductable  \\\n",
       "count         1000.000000  1000.000000    1000.000000        1000.000000   \n",
       "mean           203.954000    38.948000  546238.648000        1136.000000   \n",
       "std            115.113174     9.140287  257063.005276         611.864673   \n",
       "min              0.000000    19.000000  100804.000000         500.000000   \n",
       "25%            115.750000    32.000000  335980.250000         500.000000   \n",
       "50%            199.500000    38.000000  533135.000000        1000.000000   \n",
       "75%            276.250000    44.000000  759099.750000        2000.000000   \n",
       "max            479.000000    64.000000  999435.000000        2000.000000   \n",
       "\n",
       "       policy_annual_premium  umbrella_limit    insured_zip  capital-gains  \\\n",
       "count            1000.000000    1.000000e+03    1000.000000    1000.000000   \n",
       "mean             1256.406150    1.101000e+06  501214.488000   25126.100000   \n",
       "std               244.167395    2.297407e+06   71701.610941   27872.187708   \n",
       "min               433.330000   -1.000000e+06  430104.000000       0.000000   \n",
       "25%              1089.607500    0.000000e+00  448404.500000       0.000000   \n",
       "50%              1257.200000    0.000000e+00  466445.500000       0.000000   \n",
       "75%              1415.695000    0.000000e+00  603251.000000   51025.000000   \n",
       "max              2047.590000    1.000000e+07  620962.000000  100500.000000   \n",
       "\n",
       "        capital-loss  incident_hour_of_the_day  number_of_vehicles_involved  \\\n",
       "count    1000.000000               1000.000000                   1000.00000   \n",
       "mean   -26793.700000                 11.644000                      1.83900   \n",
       "std     28104.096686                  6.951373                      1.01888   \n",
       "min   -111100.000000                  0.000000                      1.00000   \n",
       "25%    -51500.000000                  6.000000                      1.00000   \n",
       "50%    -23250.000000                 12.000000                      1.00000   \n",
       "75%         0.000000                 17.000000                      3.00000   \n",
       "max         0.000000                 23.000000                      4.00000   \n",
       "\n",
       "       bodily_injuries    witnesses  total_claim_amount  injury_claim  \\\n",
       "count      1000.000000  1000.000000          1000.00000   1000.000000   \n",
       "mean          0.992000     1.487000         52761.94000   7433.420000   \n",
       "std           0.820127     1.111335         26401.53319   4880.951853   \n",
       "min           0.000000     0.000000           100.00000      0.000000   \n",
       "25%           0.000000     1.000000         41812.50000   4295.000000   \n",
       "50%           1.000000     1.000000         58055.00000   6775.000000   \n",
       "75%           2.000000     2.000000         70592.50000  11305.000000   \n",
       "max           2.000000     3.000000        114920.00000  21450.000000   \n",
       "\n",
       "       property_claim  vehicle_claim    auto_year  \n",
       "count     1000.000000    1000.000000  1000.000000  \n",
       "mean      7399.570000   37928.950000  2005.103000  \n",
       "std       4824.726179   18886.252893     6.015861  \n",
       "min          0.000000      70.000000  1995.000000  \n",
       "25%       4445.000000   30292.500000  2000.000000  \n",
       "50%       6750.000000   42100.000000  2005.000000  \n",
       "75%      10885.000000   50822.500000  2010.000000  \n",
       "max      23670.000000   79560.000000  2015.000000  "
      ]
     },
     "execution_count": 3,
     "metadata": {},
     "output_type": "execute_result"
    }
   ],
   "source": [
    "df.describe()"
   ]
  },
  {
   "cell_type": "markdown",
   "id": "34830a06",
   "metadata": {},
   "source": [
    "#### data cleaning, filling missing values, imputation, and hot encoder"
   ]
  },
  {
   "cell_type": "code",
   "execution_count": 4,
   "id": "200ec6fc",
   "metadata": {},
   "outputs": [
    {
     "name": "stdout",
     "output_type": "stream",
     "text": [
      "Processed dataset shape: (1000, 104)\n",
      "Null values after cleaning: 0\n"
     ]
    }
   ],
   "source": [
    "# Replace '?' with NaN and check missing values\n",
    "df.replace('?', np.nan, inplace=True)\n",
    "\n",
    "# Drop columns that won't help the model or are data leakage\n",
    "cols_to_drop = ['policy_number', 'insured_zip', 'incident_location', 'incident_date',\n",
    "                'auto_model', 'policy_bind_date']\n",
    "df.drop(columns=cols_to_drop, inplace=True)\n",
    "\n",
    "# Encode target variable\n",
    "label_encoder = LabelEncoder()\n",
    "df['isFraud'] = label_encoder.fit_transform(df['isFraud'])  # Y->1, N->0\n",
    "\n",
    "# Encode categorical features using get_dummies\n",
    "categorical_cols = df.select_dtypes(include=['object']).columns\n",
    "\n",
    "# Fill missing values in binary/categorical columns with mode\n",
    "for col in categorical_cols:\n",
    "    df[col] = df[col].fillna(df[col].mode()[0])\n",
    "\n",
    "# One-hot encoding for remaining categorical columns\n",
    "df = pd.get_dummies(df, columns=categorical_cols, drop_first=True)\n",
    "\n",
    "# Final check\n",
    "print(\"Processed dataset shape:\", df.shape)\n",
    "print(\"Null values after cleaning:\", df.isnull().sum().sum())"
   ]
  },
  {
   "cell_type": "code",
   "execution_count": 5,
   "id": "aa85b013",
   "metadata": {},
   "outputs": [
    {
     "data": {
      "text/html": [
       "<div>\n",
       "<style scoped>\n",
       "    .dataframe tbody tr th:only-of-type {\n",
       "        vertical-align: middle;\n",
       "    }\n",
       "\n",
       "    .dataframe tbody tr th {\n",
       "        vertical-align: top;\n",
       "    }\n",
       "\n",
       "    .dataframe thead th {\n",
       "        text-align: right;\n",
       "    }\n",
       "</style>\n",
       "<table border=\"1\" class=\"dataframe\">\n",
       "  <thead>\n",
       "    <tr style=\"text-align: right;\">\n",
       "      <th></th>\n",
       "      <th>months_as_customer</th>\n",
       "      <th>age</th>\n",
       "      <th>policy_deductable</th>\n",
       "      <th>policy_annual_premium</th>\n",
       "      <th>umbrella_limit</th>\n",
       "      <th>capital-gains</th>\n",
       "      <th>capital-loss</th>\n",
       "      <th>incident_hour_of_the_day</th>\n",
       "      <th>number_of_vehicles_involved</th>\n",
       "      <th>bodily_injuries</th>\n",
       "      <th>...</th>\n",
       "      <th>auto_make_Dodge</th>\n",
       "      <th>auto_make_Ford</th>\n",
       "      <th>auto_make_Honda</th>\n",
       "      <th>auto_make_Jeep</th>\n",
       "      <th>auto_make_Mercedes</th>\n",
       "      <th>auto_make_Nissan</th>\n",
       "      <th>auto_make_Saab</th>\n",
       "      <th>auto_make_Suburu</th>\n",
       "      <th>auto_make_Toyota</th>\n",
       "      <th>auto_make_Volkswagen</th>\n",
       "    </tr>\n",
       "  </thead>\n",
       "  <tbody>\n",
       "    <tr>\n",
       "      <th>months_as_customer</th>\n",
       "      <td>1.000000</td>\n",
       "      <td>0.922098</td>\n",
       "      <td>0.026807</td>\n",
       "      <td>0.005018</td>\n",
       "      <td>0.015498</td>\n",
       "      <td>0.006399</td>\n",
       "      <td>0.020209</td>\n",
       "      <td>0.070639</td>\n",
       "      <td>0.014736</td>\n",
       "      <td>-0.010162</td>\n",
       "      <td>...</td>\n",
       "      <td>-0.044926</td>\n",
       "      <td>0.015478</td>\n",
       "      <td>-0.039476</td>\n",
       "      <td>0.016515</td>\n",
       "      <td>0.095613</td>\n",
       "      <td>-0.032650</td>\n",
       "      <td>0.041350</td>\n",
       "      <td>0.018059</td>\n",
       "      <td>-0.037225</td>\n",
       "      <td>0.031905</td>\n",
       "    </tr>\n",
       "    <tr>\n",
       "      <th>age</th>\n",
       "      <td>0.922098</td>\n",
       "      <td>1.000000</td>\n",
       "      <td>0.029188</td>\n",
       "      <td>0.014404</td>\n",
       "      <td>0.018126</td>\n",
       "      <td>-0.007075</td>\n",
       "      <td>0.007368</td>\n",
       "      <td>0.087161</td>\n",
       "      <td>0.022102</td>\n",
       "      <td>-0.015679</td>\n",
       "      <td>...</td>\n",
       "      <td>-0.026565</td>\n",
       "      <td>0.003279</td>\n",
       "      <td>-0.037517</td>\n",
       "      <td>0.028231</td>\n",
       "      <td>0.083643</td>\n",
       "      <td>-0.034264</td>\n",
       "      <td>0.041219</td>\n",
       "      <td>0.002485</td>\n",
       "      <td>-0.046058</td>\n",
       "      <td>0.030235</td>\n",
       "    </tr>\n",
       "    <tr>\n",
       "      <th>policy_deductable</th>\n",
       "      <td>0.026807</td>\n",
       "      <td>0.029188</td>\n",
       "      <td>1.000000</td>\n",
       "      <td>-0.003245</td>\n",
       "      <td>0.010870</td>\n",
       "      <td>0.035212</td>\n",
       "      <td>-0.023544</td>\n",
       "      <td>0.060935</td>\n",
       "      <td>0.051214</td>\n",
       "      <td>-0.022765</td>\n",
       "      <td>...</td>\n",
       "      <td>0.003737</td>\n",
       "      <td>0.007642</td>\n",
       "      <td>-0.010615</td>\n",
       "      <td>0.025428</td>\n",
       "      <td>-0.038736</td>\n",
       "      <td>-0.000659</td>\n",
       "      <td>-0.056536</td>\n",
       "      <td>0.003737</td>\n",
       "      <td>0.003076</td>\n",
       "      <td>0.004884</td>\n",
       "    </tr>\n",
       "    <tr>\n",
       "      <th>policy_annual_premium</th>\n",
       "      <td>0.005018</td>\n",
       "      <td>0.014404</td>\n",
       "      <td>-0.003245</td>\n",
       "      <td>1.000000</td>\n",
       "      <td>-0.006247</td>\n",
       "      <td>-0.013738</td>\n",
       "      <td>0.023547</td>\n",
       "      <td>-0.001578</td>\n",
       "      <td>-0.045991</td>\n",
       "      <td>0.026780</td>\n",
       "      <td>...</td>\n",
       "      <td>-0.003080</td>\n",
       "      <td>-0.007118</td>\n",
       "      <td>-0.027782</td>\n",
       "      <td>0.059603</td>\n",
       "      <td>-0.067454</td>\n",
       "      <td>-0.047015</td>\n",
       "      <td>0.076691</td>\n",
       "      <td>-0.038238</td>\n",
       "      <td>0.004869</td>\n",
       "      <td>0.023443</td>\n",
       "    </tr>\n",
       "    <tr>\n",
       "      <th>umbrella_limit</th>\n",
       "      <td>0.015498</td>\n",
       "      <td>0.018126</td>\n",
       "      <td>0.010870</td>\n",
       "      <td>-0.006247</td>\n",
       "      <td>1.000000</td>\n",
       "      <td>-0.047268</td>\n",
       "      <td>-0.024056</td>\n",
       "      <td>-0.023257</td>\n",
       "      <td>-0.021270</td>\n",
       "      <td>0.022743</td>\n",
       "      <td>...</td>\n",
       "      <td>-0.030628</td>\n",
       "      <td>0.024813</td>\n",
       "      <td>-0.018252</td>\n",
       "      <td>0.031758</td>\n",
       "      <td>0.025500</td>\n",
       "      <td>-0.037152</td>\n",
       "      <td>-0.006549</td>\n",
       "      <td>-0.016181</td>\n",
       "      <td>-0.005240</td>\n",
       "      <td>0.022717</td>\n",
       "    </tr>\n",
       "    <tr>\n",
       "      <th>...</th>\n",
       "      <td>...</td>\n",
       "      <td>...</td>\n",
       "      <td>...</td>\n",
       "      <td>...</td>\n",
       "      <td>...</td>\n",
       "      <td>...</td>\n",
       "      <td>...</td>\n",
       "      <td>...</td>\n",
       "      <td>...</td>\n",
       "      <td>...</td>\n",
       "      <td>...</td>\n",
       "      <td>...</td>\n",
       "      <td>...</td>\n",
       "      <td>...</td>\n",
       "      <td>...</td>\n",
       "      <td>...</td>\n",
       "      <td>...</td>\n",
       "      <td>...</td>\n",
       "      <td>...</td>\n",
       "      <td>...</td>\n",
       "      <td>...</td>\n",
       "    </tr>\n",
       "    <tr>\n",
       "      <th>auto_make_Nissan</th>\n",
       "      <td>-0.032650</td>\n",
       "      <td>-0.034264</td>\n",
       "      <td>-0.000659</td>\n",
       "      <td>-0.047015</td>\n",
       "      <td>-0.037152</td>\n",
       "      <td>0.092127</td>\n",
       "      <td>0.004090</td>\n",
       "      <td>-0.038767</td>\n",
       "      <td>0.045983</td>\n",
       "      <td>0.016486</td>\n",
       "      <td>...</td>\n",
       "      <td>-0.085770</td>\n",
       "      <td>-0.081017</td>\n",
       "      <td>-0.070169</td>\n",
       "      <td>-0.077943</td>\n",
       "      <td>-0.076689</td>\n",
       "      <td>1.000000</td>\n",
       "      <td>-0.085770</td>\n",
       "      <td>-0.085770</td>\n",
       "      <td>-0.079798</td>\n",
       "      <td>-0.078565</td>\n",
       "    </tr>\n",
       "    <tr>\n",
       "      <th>auto_make_Saab</th>\n",
       "      <td>0.041350</td>\n",
       "      <td>0.041219</td>\n",
       "      <td>-0.056536</td>\n",
       "      <td>0.076691</td>\n",
       "      <td>-0.006549</td>\n",
       "      <td>-0.046626</td>\n",
       "      <td>0.003109</td>\n",
       "      <td>0.055429</td>\n",
       "      <td>0.035761</td>\n",
       "      <td>-0.028599</td>\n",
       "      <td>...</td>\n",
       "      <td>-0.086957</td>\n",
       "      <td>-0.082138</td>\n",
       "      <td>-0.071140</td>\n",
       "      <td>-0.079022</td>\n",
       "      <td>-0.077750</td>\n",
       "      <td>-0.085770</td>\n",
       "      <td>1.000000</td>\n",
       "      <td>-0.086957</td>\n",
       "      <td>-0.080902</td>\n",
       "      <td>-0.079652</td>\n",
       "    </tr>\n",
       "    <tr>\n",
       "      <th>auto_make_Suburu</th>\n",
       "      <td>0.018059</td>\n",
       "      <td>0.002485</td>\n",
       "      <td>0.003737</td>\n",
       "      <td>-0.038238</td>\n",
       "      <td>-0.016181</td>\n",
       "      <td>0.027867</td>\n",
       "      <td>0.002480</td>\n",
       "      <td>-0.031577</td>\n",
       "      <td>0.003185</td>\n",
       "      <td>-0.010612</td>\n",
       "      <td>...</td>\n",
       "      <td>-0.086957</td>\n",
       "      <td>-0.082138</td>\n",
       "      <td>-0.071140</td>\n",
       "      <td>-0.079022</td>\n",
       "      <td>-0.077750</td>\n",
       "      <td>-0.085770</td>\n",
       "      <td>-0.086957</td>\n",
       "      <td>1.000000</td>\n",
       "      <td>-0.080902</td>\n",
       "      <td>-0.079652</td>\n",
       "    </tr>\n",
       "    <tr>\n",
       "      <th>auto_make_Toyota</th>\n",
       "      <td>-0.037225</td>\n",
       "      <td>-0.046058</td>\n",
       "      <td>0.003076</td>\n",
       "      <td>0.004869</td>\n",
       "      <td>-0.005240</td>\n",
       "      <td>0.051164</td>\n",
       "      <td>0.020379</td>\n",
       "      <td>-0.024301</td>\n",
       "      <td>-0.014355</td>\n",
       "      <td>0.007459</td>\n",
       "      <td>...</td>\n",
       "      <td>-0.080902</td>\n",
       "      <td>-0.076419</td>\n",
       "      <td>-0.066187</td>\n",
       "      <td>-0.073520</td>\n",
       "      <td>-0.072337</td>\n",
       "      <td>-0.079798</td>\n",
       "      <td>-0.080902</td>\n",
       "      <td>-0.080902</td>\n",
       "      <td>1.000000</td>\n",
       "      <td>-0.074106</td>\n",
       "    </tr>\n",
       "    <tr>\n",
       "      <th>auto_make_Volkswagen</th>\n",
       "      <td>0.031905</td>\n",
       "      <td>0.030235</td>\n",
       "      <td>0.004884</td>\n",
       "      <td>0.023443</td>\n",
       "      <td>0.022717</td>\n",
       "      <td>-0.003333</td>\n",
       "      <td>-0.069678</td>\n",
       "      <td>0.024703</td>\n",
       "      <td>-0.011905</td>\n",
       "      <td>0.051095</td>\n",
       "      <td>...</td>\n",
       "      <td>-0.079652</td>\n",
       "      <td>-0.075238</td>\n",
       "      <td>-0.065165</td>\n",
       "      <td>-0.072384</td>\n",
       "      <td>-0.071219</td>\n",
       "      <td>-0.078565</td>\n",
       "      <td>-0.079652</td>\n",
       "      <td>-0.079652</td>\n",
       "      <td>-0.074106</td>\n",
       "      <td>1.000000</td>\n",
       "    </tr>\n",
       "  </tbody>\n",
       "</table>\n",
       "<p>104 rows × 104 columns</p>\n",
       "</div>"
      ],
      "text/plain": [
       "                       months_as_customer       age  policy_deductable  \\\n",
       "months_as_customer               1.000000  0.922098           0.026807   \n",
       "age                              0.922098  1.000000           0.029188   \n",
       "policy_deductable                0.026807  0.029188           1.000000   \n",
       "policy_annual_premium            0.005018  0.014404          -0.003245   \n",
       "umbrella_limit                   0.015498  0.018126           0.010870   \n",
       "...                                   ...       ...                ...   \n",
       "auto_make_Nissan                -0.032650 -0.034264          -0.000659   \n",
       "auto_make_Saab                   0.041350  0.041219          -0.056536   \n",
       "auto_make_Suburu                 0.018059  0.002485           0.003737   \n",
       "auto_make_Toyota                -0.037225 -0.046058           0.003076   \n",
       "auto_make_Volkswagen             0.031905  0.030235           0.004884   \n",
       "\n",
       "                       policy_annual_premium  umbrella_limit  capital-gains  \\\n",
       "months_as_customer                  0.005018        0.015498       0.006399   \n",
       "age                                 0.014404        0.018126      -0.007075   \n",
       "policy_deductable                  -0.003245        0.010870       0.035212   \n",
       "policy_annual_premium               1.000000       -0.006247      -0.013738   \n",
       "umbrella_limit                     -0.006247        1.000000      -0.047268   \n",
       "...                                      ...             ...            ...   \n",
       "auto_make_Nissan                   -0.047015       -0.037152       0.092127   \n",
       "auto_make_Saab                      0.076691       -0.006549      -0.046626   \n",
       "auto_make_Suburu                   -0.038238       -0.016181       0.027867   \n",
       "auto_make_Toyota                    0.004869       -0.005240       0.051164   \n",
       "auto_make_Volkswagen                0.023443        0.022717      -0.003333   \n",
       "\n",
       "                       capital-loss  incident_hour_of_the_day  \\\n",
       "months_as_customer         0.020209                  0.070639   \n",
       "age                        0.007368                  0.087161   \n",
       "policy_deductable         -0.023544                  0.060935   \n",
       "policy_annual_premium      0.023547                 -0.001578   \n",
       "umbrella_limit            -0.024056                 -0.023257   \n",
       "...                             ...                       ...   \n",
       "auto_make_Nissan           0.004090                 -0.038767   \n",
       "auto_make_Saab             0.003109                  0.055429   \n",
       "auto_make_Suburu           0.002480                 -0.031577   \n",
       "auto_make_Toyota           0.020379                 -0.024301   \n",
       "auto_make_Volkswagen      -0.069678                  0.024703   \n",
       "\n",
       "                       number_of_vehicles_involved  bodily_injuries  ...  \\\n",
       "months_as_customer                        0.014736        -0.010162  ...   \n",
       "age                                       0.022102        -0.015679  ...   \n",
       "policy_deductable                         0.051214        -0.022765  ...   \n",
       "policy_annual_premium                    -0.045991         0.026780  ...   \n",
       "umbrella_limit                           -0.021270         0.022743  ...   \n",
       "...                                            ...              ...  ...   \n",
       "auto_make_Nissan                          0.045983         0.016486  ...   \n",
       "auto_make_Saab                            0.035761        -0.028599  ...   \n",
       "auto_make_Suburu                          0.003185        -0.010612  ...   \n",
       "auto_make_Toyota                         -0.014355         0.007459  ...   \n",
       "auto_make_Volkswagen                     -0.011905         0.051095  ...   \n",
       "\n",
       "                       auto_make_Dodge  auto_make_Ford  auto_make_Honda  \\\n",
       "months_as_customer           -0.044926        0.015478        -0.039476   \n",
       "age                          -0.026565        0.003279        -0.037517   \n",
       "policy_deductable             0.003737        0.007642        -0.010615   \n",
       "policy_annual_premium        -0.003080       -0.007118        -0.027782   \n",
       "umbrella_limit               -0.030628        0.024813        -0.018252   \n",
       "...                                ...             ...              ...   \n",
       "auto_make_Nissan             -0.085770       -0.081017        -0.070169   \n",
       "auto_make_Saab               -0.086957       -0.082138        -0.071140   \n",
       "auto_make_Suburu             -0.086957       -0.082138        -0.071140   \n",
       "auto_make_Toyota             -0.080902       -0.076419        -0.066187   \n",
       "auto_make_Volkswagen         -0.079652       -0.075238        -0.065165   \n",
       "\n",
       "                       auto_make_Jeep  auto_make_Mercedes  auto_make_Nissan  \\\n",
       "months_as_customer           0.016515            0.095613         -0.032650   \n",
       "age                          0.028231            0.083643         -0.034264   \n",
       "policy_deductable            0.025428           -0.038736         -0.000659   \n",
       "policy_annual_premium        0.059603           -0.067454         -0.047015   \n",
       "umbrella_limit               0.031758            0.025500         -0.037152   \n",
       "...                               ...                 ...               ...   \n",
       "auto_make_Nissan            -0.077943           -0.076689          1.000000   \n",
       "auto_make_Saab              -0.079022           -0.077750         -0.085770   \n",
       "auto_make_Suburu            -0.079022           -0.077750         -0.085770   \n",
       "auto_make_Toyota            -0.073520           -0.072337         -0.079798   \n",
       "auto_make_Volkswagen        -0.072384           -0.071219         -0.078565   \n",
       "\n",
       "                       auto_make_Saab  auto_make_Suburu  auto_make_Toyota  \\\n",
       "months_as_customer           0.041350          0.018059         -0.037225   \n",
       "age                          0.041219          0.002485         -0.046058   \n",
       "policy_deductable           -0.056536          0.003737          0.003076   \n",
       "policy_annual_premium        0.076691         -0.038238          0.004869   \n",
       "umbrella_limit              -0.006549         -0.016181         -0.005240   \n",
       "...                               ...               ...               ...   \n",
       "auto_make_Nissan            -0.085770         -0.085770         -0.079798   \n",
       "auto_make_Saab               1.000000         -0.086957         -0.080902   \n",
       "auto_make_Suburu            -0.086957          1.000000         -0.080902   \n",
       "auto_make_Toyota            -0.080902         -0.080902          1.000000   \n",
       "auto_make_Volkswagen        -0.079652         -0.079652         -0.074106   \n",
       "\n",
       "                       auto_make_Volkswagen  \n",
       "months_as_customer                 0.031905  \n",
       "age                                0.030235  \n",
       "policy_deductable                  0.004884  \n",
       "policy_annual_premium              0.023443  \n",
       "umbrella_limit                     0.022717  \n",
       "...                                     ...  \n",
       "auto_make_Nissan                  -0.078565  \n",
       "auto_make_Saab                    -0.079652  \n",
       "auto_make_Suburu                  -0.079652  \n",
       "auto_make_Toyota                  -0.074106  \n",
       "auto_make_Volkswagen               1.000000  \n",
       "\n",
       "[104 rows x 104 columns]"
      ]
     },
     "execution_count": 5,
     "metadata": {},
     "output_type": "execute_result"
    }
   ],
   "source": [
    "df.corr()"
   ]
  },
  {
   "cell_type": "code",
   "execution_count": 6,
   "id": "34eb120b",
   "metadata": {},
   "outputs": [
    {
     "name": "stdout",
     "output_type": "stream",
     "text": [
      "isFraud                             1.000000\n",
      "insured_hobbies_chess               0.294851\n",
      "insured_hobbies_cross-fit           0.218968\n",
      "vehicle_claim                       0.170049\n",
      "total_claim_amount                  0.163651\n",
      "                                      ...   \n",
      "incident_type_Vehicle Theft        -0.120916\n",
      "incident_severity_Trivial Damage   -0.131501\n",
      "authorities_contacted_None         -0.132840\n",
      "incident_severity_Total Loss       -0.171247\n",
      "incident_severity_Minor Damage     -0.239716\n",
      "Name: isFraud, Length: 104, dtype: float64\n"
     ]
    }
   ],
   "source": [
    "print(df.corr()['isFraud'].sort_values(ascending=False))\n"
   ]
  },
  {
   "cell_type": "markdown",
   "id": "78f578f1",
   "metadata": {},
   "source": [
    "#### Note!\n",
    "Even if isFraud doesn’t show up in the columns after one-hot encoding or in certain intermediate printouts like df.head(), it’s still part of the DataFrame — unless it was explicitly dropped."
   ]
  },
  {
   "cell_type": "markdown",
   "id": "99085127",
   "metadata": {},
   "source": [
    "#### Feature Engineering\n",
    "\n",
    "- This will help strengthen the patterns your model can learn from. Here’s what we’ll add:\n",
    "\n",
    "📌 Features to Create:\n",
    "- injury_to_total_ratio = injury_claim / total_claim_amount\n",
    "→ Measures how much of the total claim is due to injury.\n",
    "\n",
    "- vehicle_to_total_ratio = vehicle_claim / total_claim_amount\n",
    "→ Helps detect inflated vehicle damage claims.\n",
    "\n",
    "- is_large_claim = 1 if total_claim_amount > 40,000 else 0\n",
    "→ Flag claims that are unusually large.\n",
    "\n",
    "- tenure_group = bin months_as_customer into ranges (0–100, 101–200...)\n",
    "→ Categorize customer loyalty span."
   ]
  },
  {
   "cell_type": "code",
   "execution_count": 7,
   "id": "28717e16",
   "metadata": {},
   "outputs": [],
   "source": [
    "# 1. Injury to Total Ratio\n",
    "# Avoid division by zero\n",
    "df['injury_to_total_ratio'] = df.apply(\n",
    "    lambda row: row['injury_claim'] / row['total_claim_amount'] if row['total_claim_amount'] > 0 else 0,\n",
    "    axis=1\n",
    ")\n",
    "\n",
    "# 2. Vehicle to Total Ratio\n",
    "df['vehicle_to_total_ratio'] = df.apply(\n",
    "    lambda row: row['vehicle_claim'] / row['total_claim_amount'] if row['total_claim_amount'] > 0 else 0,\n",
    "    axis=1\n",
    ")\n",
    "\n",
    "# 3. Large Claim Flag (binary)\n",
    "df['is_large_claim'] = df['total_claim_amount'].apply(lambda x: 1 if x > 40000 else 0)\n",
    "\n",
    "# 4. Customer Tenure Group\n",
    "bins = [0, 100, 200, 300, 400, 500]\n",
    "labels = ['0-100', '101-200', '201-300', '301-400', '401-500']\n",
    "df['tenure_group'] = pd.cut(df['months_as_customer'], bins=bins, labels=labels, include_lowest=True)\n",
    "\n",
    "# One-hot encode tenure group\n",
    "df = pd.get_dummies(df, columns=['tenure_group'], drop_first=True)\n"
   ]
  },
  {
   "cell_type": "markdown",
   "id": "d574d0de",
   "metadata": {},
   "source": [
    "#### Model Training\n",
    "\n",
    "**It includes:** \n",
    "\n",
    "- Logistic Regression and Random Forest models\n",
    "\n",
    "- Evaluation via classification reports\n",
    "\n",
    "- A confusion matrix heatmap for Random Forest"
   ]
  },
  {
   "cell_type": "code",
   "execution_count": 8,
   "id": "45cc96ef",
   "metadata": {},
   "outputs": [
    {
     "name": "stdout",
     "output_type": "stream",
     "text": [
      "\n",
      "Logistic Regression Report:\n",
      "              precision    recall  f1-score   support\n",
      "\n",
      "           0       0.75      0.99      0.86       151\n",
      "           1       0.00      0.00      0.00        49\n",
      "\n",
      "    accuracy                           0.75       200\n",
      "   macro avg       0.38      0.50      0.43       200\n",
      "weighted avg       0.57      0.75      0.65       200\n",
      "\n",
      "\n",
      "Random Forest Report:\n",
      "              precision    recall  f1-score   support\n",
      "\n",
      "           0       0.76      0.93      0.84       151\n",
      "           1       0.33      0.10      0.16        49\n",
      "\n",
      "    accuracy                           0.73       200\n",
      "   macro avg       0.55      0.52      0.50       200\n",
      "weighted avg       0.66      0.73      0.67       200\n",
      "\n"
     ]
    },
    {
     "data": {
      "image/png": "[encoded data removed]",
      "text/plain": [
       "<Figure size 640x480 with 2 Axes>"
      ]
     },
     "metadata": {},
     "output_type": "display_data"
    }
   ],
   "source": [
    "# Split features and target\n",
    "X = df.drop('isFraud', axis=1)\n",
    "y = df['isFraud']\n",
    "\n",
    "# Train-test split\n",
    "X_train, X_test, y_train, y_test = train_test_split(X, y, test_size=0.2, random_state=42, stratify=y)\n",
    "\n",
    "# --- Model 1: Logistic Regression ---\n",
    "logreg = LogisticRegression(max_iter=1000)\n",
    "logreg.fit(X_train, y_train)\n",
    "y_pred_logreg = logreg.predict(X_test)\n",
    "\n",
    "print(\"\\nLogistic Regression Report:\")\n",
    "print(classification_report(y_test, y_pred_logreg))\n",
    "\n",
    "# --- Model 2: Random Forest ---\n",
    "rf = RandomForestClassifier(n_estimators=100, random_state=42)\n",
    "rf.fit(X_train, y_train)\n",
    "y_pred_rf = rf.predict(X_test)\n",
    "\n",
    "print(\"\\nRandom Forest Report:\")\n",
    "print(classification_report(y_test, y_pred_rf))\n",
    "\n",
    "# --- Confusion Matrix for Random Forest ---\n",
    "conf_matrix = confusion_matrix(y_test, y_pred_rf)\n",
    "sns.heatmap(conf_matrix, annot=True, fmt='d', cmap='Blues', xticklabels=['Non-Fraud', 'Fraud'], yticklabels=['Non-Fraud', 'Fraud'])\n",
    "plt.title('Random Forest Confusion Matrix')\n",
    "plt.xlabel('Predicted')\n",
    "plt.ylabel('Actual')\n",
    "plt.tight_layout()\n",
    "plt.show()\n"
   ]
  },
  {
   "cell_type": "markdown",
   "id": "6b0bb996",
   "metadata": {},
   "source": [
    "# 🧠 Confusion Matrix Interpretation (Random Forest)\n",
    "\n",
    "The confusion matrix you shared is from your **Random Forest classifier**, and here’s how to interpret it:\n",
    "\n",
    "---\n",
    "\n",
    "## 🔍 Confusion Matrix Breakdown\n",
    "\n",
    "|                          | **Predicted: Non-Fraud** | **Predicted: Fraud** |\n",
    "|--------------------------|---------------------------|-----------------------|\n",
    "| **Actual: Non-Fraud**    | 141 (**True Negatives**)  | 10 (**False Positives**) |\n",
    "| **Actual: Fraud**        | 44 (**False Negatives**)  | 5 (**True Positives**)   |\n",
    "\n",
    "---\n",
    "\n",
    "## ✅ What This Means\n",
    "\n",
    "- **141 True Negatives (TN):** Legitimate claims correctly classified  \n",
    "- **10 False Positives (FP):** Legitimate claims wrongly predicted as fraud  \n",
    "- **44 False Negatives (FN):** Fraudulent claims missed by the model 😬  \n",
    "- **5 True Positives (TP):** Fraudulent claims correctly identified  \n",
    "\n",
    "---\n",
    "\n",
    "## 📉 Metrics (based on this matrix)\n",
    "\n",
    "### 🔸 Precision (Fraud Class = 1)\n",
    "\n",
    "\n",
    "➡️ **Only 33%** of predicted frauds are actually fraud.\n",
    "\n",
    "---\n",
    "\n",
    "### 🔸 Recall (Sensitivity)\n",
    "\n",
    "➡️ **Only 10%** of actual frauds are being caught.\n",
    "\n",
    "---\n",
    "\n",
    "### 🔸 Accuracy (Overall)\n",
    "\n",
    "➡️ **73% accuracy**, but this is misleading due to class imbalance.\n",
    "\n",
    "---\n",
    "\n",
    "⚠️ **Big Concern: High False Negatives**\n",
    "Your model is missing 44 out of 49 frauds → not acceptable in fraud detection."
   ]
  },
  {
   "cell_type": "markdown",
   "id": "12145dfe",
   "metadata": {},
   "source": [
    "## Model Training + SMOTE\n",
    "\n",
    "### ⚙️ 1. Training Strategy\n",
    "\n",
    "| Aspect                     | First Model                 | New Model (Improved)         |\n",
    "|----------------------------|-----------------------------|------------------------------|\n",
    "| Data Split                 | Regular train_test_split    | Same                         |\n",
    "| Class Imbalance Handling   | ❌ None                     | ✅ Handled with SMOTE         |\n",
    "| Class Weights              | ❌ Default (unbalanced)     | ✅ class_weight='balanced'    |\n",
    "| Fraud Cases in Training    | Small minority (underrepresented) | Oversampled to balance with SMOTE |\n",
    "\n",
    "## 📊 2. Model Behavior & Impact\n",
    "\n",
    "| Metric             | First Model                          | New Model                          |\n",
    "|--------------------|--------------------------------------|------------------------------------|\n",
    "| Recall (Fraud)     | Low – model missed most frauds       | Higher – catches more frauds       |\n",
    "| Precision (Fraud)  | Medium – few fraud predictions were correct | May be lower due to more false positives |\n",
    "| F1-Score (Fraud)   | Low overall                          | Improved due to better balance     |\n",
    "| Accuracy           | Looks decent (~73%) but misleading   | Slightly lower, but more meaningful |\n",
    "\n",
    "## 🧠 3. Why It Matters\n",
    "\n",
    "| First Model                                  | New Model                                      |\n",
    "|----------------------------------------------|------------------------------------------------|\n",
    "| Prioritized majority class (non-fraud)       | Trains on balanced fraud vs. non-fraud         |\n",
    "| Risk: lets many frauds slip through undetected | Risk: may flag a few legit claims as fraud, but catches more actual fraud |\n",
    "\n",
    "## 🎯 Summary:\n",
    "- **First model**: Biased toward non-fraud → high accuracy but low fraud detection.\n",
    "- **New model**: Focused on detecting fraud → better recall, more useful for real-world fraud prevention."
   ]
  },
  {
   "cell_type": "code",
   "execution_count": 9,
   "id": "edb1a600",
   "metadata": {},
   "outputs": [
    {
     "name": "stdout",
     "output_type": "stream",
     "text": [
      "\n",
      "Random Forest with SMOTE + Balanced Class Weight:\n",
      "              precision    recall  f1-score   support\n",
      "\n",
      "           0       0.79      0.93      0.85       151\n",
      "           1       0.52      0.22      0.31        49\n",
      "\n",
      "    accuracy                           0.76       200\n",
      "   macro avg       0.66      0.58      0.58       200\n",
      "weighted avg       0.72      0.76      0.72       200\n",
      "\n"
     ]
    },
    {
     "data": {
      "image/png": "[encoded data removed]",
      "text/plain": [
       "<Figure size 640x480 with 2 Axes>"
      ]
     },
     "metadata": {},
     "output_type": "display_data"
    }
   ],
   "source": [
    "# Split features and target\n",
    "X = df.drop('isFraud', axis=1)\n",
    "y = df['isFraud']\n",
    "\n",
    "# Train-test split\n",
    "X_train, X_test, y_train, y_test = train_test_split(\n",
    "    X, y, test_size=0.2, random_state=42, stratify=y\n",
    ")\n",
    "\n",
    "# --- Apply SMOTE to training data only ---\n",
    "smote = SMOTE(random_state=42)\n",
    "X_resampled, y_resampled = smote.fit_resample(X_train, y_train)\n",
    "\n",
    "# --- Train Random Forest with class_weight and balanced data ---\n",
    "rf = RandomForestClassifier(n_estimators=100, random_state=42, class_weight='balanced')\n",
    "rf.fit(X_resampled, y_resampled)\n",
    "y_pred_rf = rf.predict(X_test)\n",
    "\n",
    "# --- Evaluation ---\n",
    "print(\"\\nRandom Forest with SMOTE + Balanced Class Weight:\")\n",
    "print(classification_report(y_test, y_pred_rf))\n",
    "\n",
    "# --- Confusion Matrix ---\n",
    "conf_matrix = confusion_matrix(y_test, y_pred_rf)\n",
    "sns.heatmap(conf_matrix, annot=True, fmt='d', cmap='Blues', xticklabels=['Non-Fraud', 'Fraud'], yticklabels=['Non-Fraud', 'Fraud'])\n",
    "plt.title('Confusion Matrix (RF + SMOTE + Balanced)')\n",
    "plt.xlabel('Predicted')\n",
    "plt.ylabel('Actual')\n",
    "plt.tight_layout()\n",
    "plt.show()\n"
   ]
  },
  {
   "cell_type": "markdown",
   "id": "78970103",
   "metadata": {},
   "source": [
    "# 📊 SMOTE-Enhanced Random Forest: Confusion Matrix Interpretation\n",
    "\n",
    "Let's interpret the updated confusion matrix from the **Random Forest model with SMOTE + class balancing**:\n",
    "\n",
    "---\n",
    "\n",
    "## 🔍 Confusion Matrix Breakdown\n",
    "\n",
    "|                          | **Predicted: Non-Fraud** | **Predicted: Fraud** |\n",
    "|--------------------------|---------------------------|-----------------------|\n",
    "| **Actual: Non-Fraud**    | 141 (**True Negatives**)  | 10 (**False Positives**) |\n",
    "| **Actual: Fraud**        | 38 (**False Negatives**)  | 11 (**True Positives**)  |\n",
    "\n",
    "---\n",
    "\n",
    "## ✅ Improvements from SMOTE\n",
    "\n",
    "Compared to the previous version:\n",
    "\n",
    "- **True Positives (TP)** increased: from 5 → **11** frauds correctly caught  \n",
    "- **False Negatives (FN)** decreased: from 44 → **38** frauds missed\n",
    "\n",
    "---\n",
    "\n",
    "## 📉 Updated Metrics\n",
    "\n",
    "### 🔸 Precision (Fraud Class = 1)\n",
    "\n",
    "➡️ **52%** of predicted frauds are actually fraud — better than before (33%)\n",
    "\n",
    "---\n",
    "\n",
    "### 🔸 Recall (Sensitivity)\n",
    "\n",
    "➡️ **22%** of actual frauds are caught — up from 10%\n",
    "\n",
    "---\n",
    "\n",
    "### 🔸 Accuracy\n",
    "\n",
    "➡️ **76% accuracy**, a slight improvement — but still not our primary metric due to class imbalance\n",
    "\n",
    "---\n",
    "\n",
    "## 🎯 Summary Comparison\n",
    "\n",
    "| **Metric**       | **Original Model** | **SMOTE Model** |\n",
    "|------------------|--------------------|-----------------|\n",
    "| **Precision**    | 33%                | **52%**         |\n",
    "| **Recall**       | 10%                | **22%**         |\n",
    "| **True Positives** | 5                 | **11**          |\n",
    "| **Accuracy**     | 73%                | **76%**         |\n",
    "\n",
    "✅ Now detecting **more than twice as many frauds** — a meaningful step forward in fraud detection.\n"
   ]
  },
  {
   "cell_type": "markdown",
   "id": "6f03ff71",
   "metadata": {},
   "source": [
    "## feature importance\n",
    "\n",
    "wrapping up Phase 1 with feature importance gives solid closure and a clear understanding of what drives fraud predictions. ✅\n",
    "\n",
    "**What We’ll Do:**\n",
    "- Extract feature importances from the trained RandomForestClassifier\n",
    "\n",
    "- Plot the top 15 most influential features\n",
    "\n",
    "- Help  explain why the model makes certain predictions\n",
    "\n",
    "- Use feature importances to help select features for a new model understand the model’s predictions\n",
    "\n",
    "**🧠 What You’ll Learn:**\n",
    "- Which features most influence fraud predictions\n",
    "\n",
    "- Whether engineered features like injury_to_total_ratio or is_large_claim are impactful\n",
    "\n",
    "- If there’s noise (e.g., oddly important hobbies or ZIP-based columns)\n",
    " \n",
    "Let’s add this to model_training.py or keep it in a separate visual module.\n",
    "\n",
    "**📊 Feature Importance Code Snippet**\n",
    "Here’s a block  can run right after model evaluation:\n"
   ]
  },
  {
   "cell_type": "code",
   "execution_count": 10,
   "id": "80a9b67b",
   "metadata": {},
   "outputs": [
    {
     "data": {
      "image/png": "[encoded data removed]",
      "text/plain": [
       "<Figure size 1000x600 with 1 Axes>"
      ]
     },
     "metadata": {},
     "output_type": "display_data"
    }
   ],
   "source": [
    "# --- Feature Importance Plot (Top 15) ---\n",
    "importances = rf.feature_importances_\n",
    "features = X.columns\n",
    "importance_df = pd.DataFrame({'Feature': features, 'Importance': importances})\n",
    "importance_df = importance_df.sort_values(by='Importance', ascending=False).head(15)\n",
    "\n",
    "plt.figure(figsize=(10, 6))\n",
    "sns.barplot(data=importance_df, x='Importance', y='Feature', palette='viridis')\n",
    "plt.title('Top 15 Feature Importances (Random Forest)')\n",
    "plt.tight_layout()\n",
    "plt.show()\n"
   ]
  },
  {
   "cell_type": "markdown",
   "id": "d3a8b343",
   "metadata": {},
   "source": [
    "# 🔍 Feature Importance Insights (Random Forest)\n",
    "\n",
    "That feature importance plot clearly tells us what’s driving the fraud predictions in your model.\n",
    "\n",
    "---\n",
    "\n",
    "## 📊 Top Insights from Your Feature Importance Plot\n",
    "\n",
    "| Rank | Feature                                | Insight                                                                 |\n",
    "|------|----------------------------------------|-------------------------------------------------------------------------|\n",
    "| 1️⃣   | `incident_severity_Minor Damage`       | Strong signal — likely used to distinguish normal from suspicious cases. |\n",
    "| 2️⃣   | `incident_severity_Total Loss`         | High claim severity also influences prediction strongly.                |\n",
    "| 3️⃣   | `property_claim` & `vehicle_claim`     | High amounts likely trigger fraud flags.                                |\n",
    "| 5️⃣   | `total_claim_amount`                   | Overall claim size matters, as expected.                                |\n",
    "| 6️⃣   | `months_as_customer`                   | Short-tenure customers might be more suspect.                           |\n",
    "| 🔹   | `authorities_contacted_Police`          | Legal involvement could correlate with real fraud detection.            |\n",
    "| 🔹   | `tenure_group_201-300`, `policy_annual_premium` | Shows that engineered & demographic features are working.       |\n",
    "| 🔹   | `vehicle_to_total_ratio`, `incident_hour_of_the_day` | Fine-grained behavioral features contributing as well.     |\n",
    "\n",
    "---\n",
    "\n",
    "## ✅ What This Confirms\n",
    "\n",
    "- the **feature engineering is impactful** — custom columns like `tenure_group` and ratios show up in the top 15.\n",
    "- The model relies on **claim behavior, severity, and engagement with authorities** — this aligns with how fraud cases usually work in practice.\n",
    "- **Fraud is not random** — there are patterns, and the model is learning them.\n",
    "\n"
   ]
  },
  {
   "cell_type": "markdown",
   "id": "2bc0fdf0",
   "metadata": {},
   "source": [
    "### Phase 2: Geospatial Risk Mapping 🌍\n",
    "\n",
    "**performs:**\n",
    "\n",
    "- 📊 Aggregation of fraud data by incident_state and incident_city\n",
    "\n",
    "- 📈 Bar plots for Top 10 states and cities by fraud rate"
   ]
  },
  {
   "cell_type": "code",
   "execution_count": 11,
   "id": "a540caf2",
   "metadata": {},
   "outputs": [
    {
     "data": {
      "image/png": "[encoded data removed]",
      "text/plain": [
       "<Figure size 1000x600 with 1 Axes>"
      ]
     },
     "metadata": {},
     "output_type": "display_data"
    },
    {
     "data": {
      "image/png": "[encoded data removed]",
      "text/plain": [
       "<Figure size 1000x600 with 1 Axes>"
      ]
     },
     "metadata": {},
     "output_type": "display_data"
    }
   ],
   "source": [
    "# --- Step 1: Reconstruct incident_state and incident_city ---\n",
    "df['incident_state'] = df[[col for col in df.columns if col.startswith('incident_state_')]].idxmax(axis=1).str.replace('incident_state_', '')\n",
    "df['incident_city'] = df[[col for col in df.columns if col.startswith('incident_city_')]].idxmax(axis=1).str.replace('incident_city_', '')\n",
    "\n",
    "# --- Step 2: Aggregate by State and City ---\n",
    "state_summary = df.groupby('incident_state').agg(\n",
    "    total_claims=('isFraud', 'count'),\n",
    "    fraud_claims=('isFraud', 'sum')\n",
    ").reset_index()\n",
    "state_summary['fraud_rate'] = state_summary['fraud_claims'] / state_summary['total_claims']\n",
    "\n",
    "city_summary = df.groupby('incident_city').agg(\n",
    "    total_claims=('isFraud', 'count'),\n",
    "    fraud_claims=('isFraud', 'sum')\n",
    ").reset_index()\n",
    "city_summary['fraud_rate'] = city_summary['fraud_claims'] / city_summary['total_claims']\n",
    "\n",
    "# --- Step 3: Bar Plot - Top 10 States ---\n",
    "top_states = state_summary.sort_values(by='fraud_rate', ascending=False).head(10)\n",
    "plt.figure(figsize=(10, 6))\n",
    "sns.barplot(data=top_states, x='fraud_rate', y='incident_state', palette='Reds_r')\n",
    "plt.title('Top 10 States by Fraud Rate')\n",
    "plt.xlabel('Fraud Rate')\n",
    "plt.ylabel('State')\n",
    "plt.tight_layout()\n",
    "plt.show()\n",
    "\n",
    "# --- Step 4: Bar Plot - Top 10 Cities ---\n",
    "top_cities = city_summary.sort_values(by='fraud_rate', ascending=False).head(10)\n",
    "plt.figure(figsize=(10, 6))\n",
    "sns.barplot(data=top_cities, x='fraud_rate', y='incident_city', palette='Blues_r')\n",
    "plt.title('Top 10 Cities by Fraud Rate')\n",
    "plt.xlabel('Fraud Rate')\n",
    "plt.ylabel('City')\n",
    "plt.tight_layout()\n",
    "plt.show()\n"
   ]
  },
  {
   "cell_type": "markdown",
   "id": "430cbdc3",
   "metadata": {},
   "source": [
    "### top 10 fraud cases by state\n",
    "\n",
    "| Rank  | **State**               | **Observation**                                                            |\n",
    "| ----- | ----------------------- | -------------------------------------------------------------------------- |\n",
    "| 1️⃣   | **OH** (Ohio)           | Highest fraud rate — stands out significantly                              |\n",
    "| 2️⃣   | **SC** (South Carolina) | Also high — possibly worth geospatial analysis                             |\n",
    "| 3–6️⃣ | PA, NY, VA, WV          | Consistently elevated fraud rates — good targets for deeper risk profiling |\n",
    "\n",
    "### top 10 fraud cases by city\n",
    "\n",
    "| Rank  | **City**                          | **Observation**                                                                 |\n",
    "| ----- | --------------------------------- | ------------------------------------------------------------------------------- |\n",
    "| 1️⃣   | **Columbus**                      | Stands out as the top fraud-prone city — strong signal for geospatial attention |\n",
    "| 2–4️⃣ | Hillsdale, Springfield, Northbend | Consistently high fraud rates — critical to monitor                             |\n",
    "| 5–6️⃣ | Riverwood, Northbrook             | Also flagged for elevated fraud activity                                        |\n",
    "\n"
   ]
  },
  {
   "cell_type": "markdown",
   "id": "5c5db060",
   "metadata": {},
   "source": [
    "### Choropleth Map\n",
    "\n",
    "**This interactive map will:**\n",
    "\n",
    "- Show fraud rates by U.S. state\n",
    "\n",
    "- Use a red gradient to highlight high-risk areas\n",
    "\n",
    "- Center on the U.S. with scope='usa'"
   ]
  },
  {
   "cell_type": "code",
   "execution_count": 12,
   "id": "ba2056dc",
   "metadata": {},
   "outputs": [
    {
     "data": {
      "application/vnd.plotly.v1+json": {
       "config": {
        "plotlyServerURL": "https://plot.ly"
       },
       "data": [
        {
         "coloraxis": "coloraxis",
         "geo": "geo",
         "hovertemplate": "incident_state=%{location}<br>Fraud Rate=%{z}<extra></extra>",
         "locationmode": "USA-states",
         "locations": [
          "NY",
          "OH",
          "PA",
          "SC",
          "VA",
          "WV"
         ],
         "name": "",
         "type": "choropleth",
         "z": [
          0.24731182795698925,
          0.43478260869565216,
          0.26666666666666666,
          0.29435483870967744,
          0.22727272727272727,
          0.17972350230414746
         ]
        }
       ],
       "layout": {
        "coloraxis": {
         "colorbar": {
          "title": {
           "text": "Fraud Rate"
          }
         },
         "colorscale": [
          [
           0,
           "rgb(255,245,240)"
          ],
          [
           0.125,
           "rgb(254,224,210)"
          ],
          [
           0.25,
           "rgb(252,187,161)"
          ],
          [
           0.375,
           "rgb(252,146,114)"
          ],
          [
           0.5,
           "rgb(251,106,74)"
          ],
          [
           0.625,
           "rgb(239,59,44)"
          ],
          [
           0.75,
           "rgb(203,24,29)"
          ],
          [
           0.875,
           "rgb(165,15,21)"
          ],
          [
           1,
           "rgb(103,0,13)"
          ]
         ]
        },
        "geo": {
         "bgcolor": "rgba(0,0,0,0)",
         "center": {},
         "domain": {
          "x": [
           0,
           1
          ],
          "y": [
           0,
           1
          ]
         },
         "scope": "usa"
        },
        "legend": {
         "tracegroupgap": 0
        },
        "template": {
         "data": {
          "bar": [
           {
            "error_x": {
             "color": "#2a3f5f"
            },
            "error_y": {
             "color": "#2a3f5f"
            },
            "marker": {
             "line": {
              "color": "#E5ECF6",
              "width": 0.5
             },
             "pattern": {
              "fillmode": "overlay",
              "size": 10,
              "solidity": 0.2
             }
            },
            "type": "bar"
           }
          ],
          "barpolar": [
           {
            "marker": {
             "line": {
              "color": "#E5ECF6",
              "width": 0.5
             },
             "pattern": {
              "fillmode": "overlay",
              "size": 10,
              "solidity": 0.2
             }
            },
            "type": "barpolar"
           }
          ],
          "carpet": [
           {
            "aaxis": {
             "endlinecolor": "#2a3f5f",
             "gridcolor": "white",
             "linecolor": "white",
             "minorgridcolor": "white",
             "startlinecolor": "#2a3f5f"
            },
            "baxis": {
             "endlinecolor": "#2a3f5f",
             "gridcolor": "white",
             "linecolor": "white",
             "minorgridcolor": "white",
             "startlinecolor": "#2a3f5f"
            },
            "type": "carpet"
           }
          ],
          "choropleth": [
           {
            "colorbar": {
             "outlinewidth": 0,
             "ticks": ""
            },
            "type": "choropleth"
           }
          ],
          "contour": [
           {
            "colorbar": {
             "outlinewidth": 0,
             "ticks": ""
            },
            "colorscale": [
             [
              0,
              "#0d0887"
             ],
             [
              0.1111111111111111,
              "#46039f"
             ],
             [
              0.2222222222222222,
              "#7201a8"
             ],
             [
              0.3333333333333333,
              "#9c179e"
             ],
             [
              0.4444444444444444,
              "#bd3786"
             ],
             [
              0.5555555555555556,
              "#d8576b"
             ],
             [
              0.6666666666666666,
              "#ed7953"
             ],
             [
              0.7777777777777778,
              "#fb9f3a"
             ],
             [
              0.8888888888888888,
              "#fdca26"
             ],
             [
              1,
              "#f0f921"
             ]
            ],
            "type": "contour"
           }
          ],
          "contourcarpet": [
           {
            "colorbar": {
             "outlinewidth": 0,
             "ticks": ""
            },
            "type": "contourcarpet"
           }
          ],
          "heatmap": [
           {
            "colorbar": {
             "outlinewidth": 0,
             "ticks": ""
            },
            "colorscale": [
             [
              0,
              "#0d0887"
             ],
             [
              0.1111111111111111,
              "#46039f"
             ],
             [
              0.2222222222222222,
              "#7201a8"
             ],
             [
              0.3333333333333333,
              "#9c179e"
             ],
             [
              0.4444444444444444,
              "#bd3786"
             ],
             [
              0.5555555555555556,
              "#d8576b"
             ],
             [
              0.6666666666666666,
              "#ed7953"
             ],
             [
              0.7777777777777778,
              "#fb9f3a"
             ],
             [
              0.8888888888888888,
              "#fdca26"
             ],
             [
              1,
              "#f0f921"
             ]
            ],
            "type": "heatmap"
           }
          ],
          "heatmapgl": [
           {
            "colorbar": {
             "outlinewidth": 0,
             "ticks": ""
            },
            "colorscale": [
             [
              0,
              "#0d0887"
             ],
             [
              0.1111111111111111,
              "#46039f"
             ],
             [
              0.2222222222222222,
              "#7201a8"
             ],
             [
              0.3333333333333333,
              "#9c179e"
             ],
             [
              0.4444444444444444,
              "#bd3786"
             ],
             [
              0.5555555555555556,
              "#d8576b"
             ],
             [
              0.6666666666666666,
              "#ed7953"
             ],
             [
              0.7777777777777778,
              "#fb9f3a"
             ],
             [
              0.8888888888888888,
              "#fdca26"
             ],
             [
              1,
              "#f0f921"
             ]
            ],
            "type": "heatmapgl"
           }
          ],
          "histogram": [
           {
            "marker": {
             "pattern": {
              "fillmode": "overlay",
              "size": 10,
              "solidity": 0.2
             }
            },
            "type": "histogram"
           }
          ],
          "histogram2d": [
           {
            "colorbar": {
             "outlinewidth": 0,
             "ticks": ""
            },
            "colorscale": [
             [
              0,
              "#0d0887"
             ],
             [
              0.1111111111111111,
              "#46039f"
             ],
             [
              0.2222222222222222,
              "#7201a8"
             ],
             [
              0.3333333333333333,
              "#9c179e"
             ],
             [
              0.4444444444444444,
              "#bd3786"
             ],
             [
              0.5555555555555556,
              "#d8576b"
             ],
             [
              0.6666666666666666,
              "#ed7953"
             ],
             [
              0.7777777777777778,
              "#fb9f3a"
             ],
             [
              0.8888888888888888,
              "#fdca26"
             ],
             [
              1,
              "#f0f921"
             ]
            ],
            "type": "histogram2d"
           }
          ],
          "histogram2dcontour": [
           {
            "colorbar": {
             "outlinewidth": 0,
             "ticks": ""
            },
            "colorscale": [
             [
              0,
              "#0d0887"
             ],
             [
              0.1111111111111111,
              "#46039f"
             ],
             [
              0.2222222222222222,
              "#7201a8"
             ],
             [
              0.3333333333333333,
              "#9c179e"
             ],
             [
              0.4444444444444444,
              "#bd3786"
             ],
             [
              0.5555555555555556,
              "#d8576b"
             ],
             [
              0.6666666666666666,
              "#ed7953"
             ],
             [
              0.7777777777777778,
              "#fb9f3a"
             ],
             [
              0.8888888888888888,
              "#fdca26"
             ],
             [
              1,
              "#f0f921"
             ]
            ],
            "type": "histogram2dcontour"
           }
          ],
          "mesh3d": [
           {
            "colorbar": {
             "outlinewidth": 0,
             "ticks": ""
            },
            "type": "mesh3d"
           }
          ],
          "parcoords": [
           {
            "line": {
             "colorbar": {
              "outlinewidth": 0,
              "ticks": ""
             }
            },
            "type": "parcoords"
           }
          ],
          "pie": [
           {
            "automargin": true,
            "type": "pie"
           }
          ],
          "scatter": [
           {
            "fillpattern": {
             "fillmode": "overlay",
             "size": 10,
             "solidity": 0.2
            },
            "type": "scatter"
           }
          ],
          "scatter3d": [
           {
            "line": {
             "colorbar": {
              "outlinewidth": 0,
              "ticks": ""
             }
            },
            "marker": {
             "colorbar": {
              "outlinewidth": 0,
              "ticks": ""
             }
            },
            "type": "scatter3d"
           }
          ],
          "scattercarpet": [
           {
            "marker": {
             "colorbar": {
              "outlinewidth": 0,
              "ticks": ""
             }
            },
            "type": "scattercarpet"
           }
          ],
          "scattergeo": [
           {
            "marker": {
             "colorbar": {
              "outlinewidth": 0,
              "ticks": ""
             }
            },
            "type": "scattergeo"
           }
          ],
          "scattergl": [
           {
            "marker": {
             "colorbar": {
              "outlinewidth": 0,
              "ticks": ""
             }
            },
            "type": "scattergl"
           }
          ],
          "scattermapbox": [
           {
            "marker": {
             "colorbar": {
              "outlinewidth": 0,
              "ticks": ""
             }
            },
            "type": "scattermapbox"
           }
          ],
          "scatterpolar": [
           {
            "marker": {
             "colorbar": {
              "outlinewidth": 0,
              "ticks": ""
             }
            },
            "type": "scatterpolar"
           }
          ],
          "scatterpolargl": [
           {
            "marker": {
             "colorbar": {
              "outlinewidth": 0,
              "ticks": ""
             }
            },
            "type": "scatterpolargl"
           }
          ],
          "scatterternary": [
           {
            "marker": {
             "colorbar": {
              "outlinewidth": 0,
              "ticks": ""
             }
            },
            "type": "scatterternary"
           }
          ],
          "surface": [
           {
            "colorbar": {
             "outlinewidth": 0,
             "ticks": ""
            },
            "colorscale": [
             [
              0,
              "#0d0887"
             ],
             [
              0.1111111111111111,
              "#46039f"
             ],
             [
              0.2222222222222222,
              "#7201a8"
             ],
             [
              0.3333333333333333,
              "#9c179e"
             ],
             [
              0.4444444444444444,
              "#bd3786"
             ],
             [
              0.5555555555555556,
              "#d8576b"
             ],
             [
              0.6666666666666666,
              "#ed7953"
             ],
             [
              0.7777777777777778,
              "#fb9f3a"
             ],
             [
              0.8888888888888888,
              "#fdca26"
             ],
             [
              1,
              "#f0f921"
             ]
            ],
            "type": "surface"
           }
          ],
          "table": [
           {
            "cells": {
             "fill": {
              "color": "#EBF0F8"
             },
             "line": {
              "color": "white"
             }
            },
            "header": {
             "fill": {
              "color": "#C8D4E3"
             },
             "line": {
              "color": "white"
             }
            },
            "type": "table"
           }
          ]
         },
         "layout": {
          "annotationdefaults": {
           "arrowcolor": "#2a3f5f",
           "arrowhead": 0,
           "arrowwidth": 1
          },
          "autotypenumbers": "strict",
          "coloraxis": {
           "colorbar": {
            "outlinewidth": 0,
            "ticks": ""
           }
          },
          "colorscale": {
           "diverging": [
            [
             0,
             "#8e0152"
            ],
            [
             0.1,
             "#c51b7d"
            ],
            [
             0.2,
             "#de77ae"
            ],
            [
             0.3,
             "#f1b6da"
            ],
            [
             0.4,
             "#fde0ef"
            ],
            [
             0.5,
             "#f7f7f7"
            ],
            [
             0.6,
             "#e6f5d0"
            ],
            [
             0.7,
             "#b8e186"
            ],
            [
             0.8,
             "#7fbc41"
            ],
            [
             0.9,
             "#4d9221"
            ],
            [
             1,
             "#276419"
            ]
           ],
           "sequential": [
            [
             0,
             "#0d0887"
            ],
            [
             0.1111111111111111,
             "#46039f"
            ],
            [
             0.2222222222222222,
             "#7201a8"
            ],
            [
             0.3333333333333333,
             "#9c179e"
            ],
            [
             0.4444444444444444,
             "#bd3786"
            ],
            [
             0.5555555555555556,
             "#d8576b"
            ],
            [
             0.6666666666666666,
             "#ed7953"
            ],
            [
             0.7777777777777778,
             "#fb9f3a"
            ],
            [
             0.8888888888888888,
             "#fdca26"
            ],
            [
             1,
             "#f0f921"
            ]
           ],
           "sequentialminus": [
            [
             0,
             "#0d0887"
            ],
            [
             0.1111111111111111,
             "#46039f"
            ],
            [
             0.2222222222222222,
             "#7201a8"
            ],
            [
             0.3333333333333333,
             "#9c179e"
            ],
            [
             0.4444444444444444,
             "#bd3786"
            ],
            [
             0.5555555555555556,
             "#d8576b"
            ],
            [
             0.6666666666666666,
             "#ed7953"
            ],
            [
             0.7777777777777778,
             "#fb9f3a"
            ],
            [
             0.8888888888888888,
             "#fdca26"
            ],
            [
             1,
             "#f0f921"
            ]
           ]
          },
          "colorway": [
           "#636efa",
           "#EF553B",
           "#00cc96",
           "#ab63fa",
           "#FFA15A",
           "#19d3f3",
           "#FF6692",
           "#B6E880",
           "#FF97FF",
           "#FECB52"
          ],
          "font": {
           "color": "#2a3f5f"
          },
          "geo": {
           "bgcolor": "white",
           "lakecolor": "white",
           "landcolor": "#E5ECF6",
           "showlakes": true,
           "showland": true,
           "subunitcolor": "white"
          },
          "hoverlabel": {
           "align": "left"
          },
          "hovermode": "closest",
          "mapbox": {
           "style": "light"
          },
          "paper_bgcolor": "white",
          "plot_bgcolor": "#E5ECF6",
          "polar": {
           "angularaxis": {
            "gridcolor": "white",
            "linecolor": "white",
            "ticks": ""
           },
           "bgcolor": "#E5ECF6",
           "radialaxis": {
            "gridcolor": "white",
            "linecolor": "white",
            "ticks": ""
           }
          },
          "scene": {
           "xaxis": {
            "backgroundcolor": "#E5ECF6",
            "gridcolor": "white",
            "gridwidth": 2,
            "linecolor": "white",
            "showbackground": true,
            "ticks": "",
            "zerolinecolor": "white"
           },
           "yaxis": {
            "backgroundcolor": "#E5ECF6",
            "gridcolor": "white",
            "gridwidth": 2,
            "linecolor": "white",
            "showbackground": true,
            "ticks": "",
            "zerolinecolor": "white"
           },
           "zaxis": {
            "backgroundcolor": "#E5ECF6",
            "gridcolor": "white",
            "gridwidth": 2,
            "linecolor": "white",
            "showbackground": true,
            "ticks": "",
            "zerolinecolor": "white"
           }
          },
          "shapedefaults": {
           "line": {
            "color": "#2a3f5f"
           }
          },
          "ternary": {
           "aaxis": {
            "gridcolor": "white",
            "linecolor": "white",
            "ticks": ""
           },
           "baxis": {
            "gridcolor": "white",
            "linecolor": "white",
            "ticks": ""
           },
           "bgcolor": "#E5ECF6",
           "caxis": {
            "gridcolor": "white",
            "linecolor": "white",
            "ticks": ""
           }
          },
          "title": {
           "x": 0.05
          },
          "xaxis": {
           "automargin": true,
           "gridcolor": "white",
           "linecolor": "white",
           "ticks": "",
           "title": {
            "standoff": 15
           },
           "zerolinecolor": "white",
           "zerolinewidth": 2
          },
          "yaxis": {
           "automargin": true,
           "gridcolor": "white",
           "linecolor": "white",
           "ticks": "",
           "title": {
            "standoff": 15
           },
           "zerolinecolor": "white",
           "zerolinewidth": 2
          }
         }
        },
        "title": {
         "text": "Fraud Rate by State (Choropleth Map)",
         "x": 0.5
        }
       }
      }
     },
     "metadata": {},
     "output_type": "display_data"
    }
   ],
   "source": [
    "# Reconstruct incident_state from one-hot columns if not already present\n",
    "if 'incident_state' not in df.columns:\n",
    "    df['incident_state'] = df[[col for col in df.columns if col.startswith('incident_state_')]].idxmax(axis=1).str.replace('incident_state_', '')\n",
    "\n",
    "# Aggregate fraud stats by state\n",
    "state_summary = df.groupby('incident_state').agg(\n",
    "    total_claims=('isFraud', 'count'),\n",
    "    fraud_claims=('isFraud', 'sum')\n",
    ").reset_index()\n",
    "state_summary['fraud_rate'] = state_summary['fraud_claims'] / state_summary['total_claims']\n",
    "\n",
    "# Plotly Choropleth\n",
    "fig = px.choropleth(\n",
    "    state_summary,\n",
    "    locations='incident_state',\n",
    "    locationmode='USA-states',\n",
    "    color='fraud_rate',\n",
    "    scope='usa',\n",
    "    color_continuous_scale='Reds',\n",
    "    labels={'fraud_rate': 'Fraud Rate'},\n",
    "    title='Fraud Rate by State (Choropleth Map)'\n",
    ")\n",
    "\n",
    "fig.update_layout(\n",
    "    geo=dict(bgcolor='rgba(0,0,0,0)'),\n",
    "    title_x=0.5\n",
    ")\n",
    "\n",
    "fig.show()\n"
   ]
  },
  {
   "cell_type": "markdown",
   "id": "38d5b87b",
   "metadata": {},
   "source": [
    "**🗺️ Key Takeaways from the Choropleth Map**\n",
    "- Ohio (OH) is the darkest—clear fraud hotspot.\n",
    "\n",
    "- South Carolina (SC), Pennsylvania (PA), New York (NY) also show high fraud rates.\n",
    "\n",
    "- The map suggests that fraud is concentrated in certain regions.\n",
    "- Geographic concentration is evident in the Eastern U.S., which could indicate regional claim behavior or policy patterns.\n",
    "\n",
    "### Phase 3: Anomaly Detection (Unsupervised)"
   ]
  },
  {
   "cell_type": "markdown",
   "id": "24c35d9c",
   "metadata": {},
   "source": [
    "### Isolation Forest\n",
    "\n",
    "| Strength                         | Details                                             |\n",
    "| -------------------------------- | --------------------------------------------------- |\n",
    "| 🚀 **Fast**                      | Works well with large tabular datasets (like yours) |\n",
    "| 🧱 **Tree-based**                | Doesn’t require feature scaling                     |\n",
    "| 📦 **Robust**                    | Handles mixed types and noisy data                  |\n",
    "| 🔍 **Good at catching outliers** | Especially with claim amount, ratios, etc.          |\n",
    "\n",
    "**✅ Best for quick, interpretable fraud detection**\n",
    "\n",
    "It includes:\n",
    "\n",
    "- Feature selection from key claim and customer metrics\n",
    "\n",
    "- Anomaly detection using IsolationForest\n",
    "\n",
    "Visuals:\n",
    "\n",
    "- Histogram of anomaly scores\n",
    "\n",
    "- Bar chart of normal vs. anomaly counts\n",
    "\n"
   ]
  },
  {
   "cell_type": "code",
   "execution_count": 13,
   "id": "08d84c92",
   "metadata": {},
   "outputs": [
    {
     "name": "stderr",
     "output_type": "stream",
     "text": [
      "c:\\Users\\65811\\anaconda3\\lib\\site-packages\\sklearn\\base.py:420: UserWarning:\n",
      "\n",
      "X does not have valid feature names, but IsolationForest was fitted with feature names\n",
      "\n"
     ]
    },
    {
     "name": "stdout",
     "output_type": "stream",
     "text": [
      "\n",
      "Anomalies detected: 50\n",
      "\n",
      "Anomaly distribution:\n",
      " 0    950\n",
      "1     50\n",
      "Name: is_anomaly, dtype: int64\n"
     ]
    },
    {
     "data": {
      "image/png": "[encoded data removed]",
      "text/plain": [
       "<Figure size 800x400 with 1 Axes>"
      ]
     },
     "metadata": {},
     "output_type": "display_data"
    },
    {
     "data": {
      "image/png": "[encoded data removed]",
      "text/plain": [
       "<Figure size 600x400 with 1 Axes>"
      ]
     },
     "metadata": {},
     "output_type": "display_data"
    }
   ],
   "source": [
    "import pandas as pd\n",
    "from sklearn.ensemble import IsolationForest\n",
    "import matplotlib.pyplot as plt\n",
    "import seaborn as sns\n",
    "\n",
    "# --- Step 1: Select relevant numeric features for anomaly detection ---\n",
    "features = [\n",
    "    'total_claim_amount', 'injury_claim', 'property_claim', 'vehicle_claim',\n",
    "    'injury_to_total_ratio', 'vehicle_to_total_ratio', 'is_large_claim',\n",
    "    'months_as_customer', 'policy_annual_premium'\n",
    "]\n",
    "\n",
    "X = df[features]\n",
    "\n",
    "# --- Step 2: Fit Isolation Forest ---\n",
    "model = IsolationForest(n_estimators=100, contamination=0.05, random_state=42)\n",
    "model.fit(X)\n",
    "\n",
    "# --- Step 3: Predict anomalies ---\n",
    "df['anomaly_score'] = model.decision_function(X)\n",
    "df['is_anomaly'] = model.predict(X)\n",
    "# Convert: -1 (anomaly), 1 (normal) → 1 (anomaly), 0 (normal)\n",
    "df['is_anomaly'] = df['is_anomaly'].map({-1: 1, 1: 0})\n",
    "\n",
    "# --- Step 4: Summary and visualization ---\n",
    "print(\"\\nAnomalies detected:\", df['is_anomaly'].sum())\n",
    "print(\"\\nAnomaly distribution:\\n\", df['is_anomaly'].value_counts())\n",
    "\n",
    "# Histogram of anomaly scores\n",
    "plt.figure(figsize=(8, 4))\n",
    "sns.histplot(df['anomaly_score'], bins=50, kde=True)\n",
    "plt.title('Isolation Forest: Anomaly Score Distribution')\n",
    "plt.xlabel('Anomaly Score')\n",
    "plt.tight_layout()\n",
    "plt.show()\n",
    "\n",
    "# Bar plot of normal vs anomaly counts\n",
    "plt.figure(figsize=(6, 4))\n",
    "sns.countplot(x='is_anomaly', data=df, palette='Set2')\n",
    "plt.xticks([0, 1], ['Normal', 'Anomaly'])\n",
    "plt.title('Isolation Forest: Anomaly Classification')\n",
    "plt.tight_layout()\n",
    "plt.show()\n"
   ]
  },
  {
   "cell_type": "markdown",
   "id": "227bedd1",
   "metadata": {},
   "source": [
    "**Isolation Forest results:**\n",
    "\n",
    "**📊 Anomaly Score Distribution**\n",
    "- Most data points have positive scores (normal).\n",
    "\n",
    "- A smaller tail on the negative side indicates points the model views as isolated/outlier (i.e., anomalies).\n",
    "\n",
    "**📉 Anomaly Classification Bar Chart**\n",
    "\n",
    "| Classification | Count |\n",
    "| -------------- | ----- |\n",
    "| 🟩 Normal      | 950   |\n",
    "| 🟥 Anomaly     | 50    |\n",
    "\n",
    "With contamination=0.05, ~5% of claims were flagged as potential fraud or outliers."
   ]
  },
  {
   "cell_type": "markdown",
   "id": "4ef682d8",
   "metadata": {},
   "source": [
    "# 🧠 Phase 3: Anomaly Detection (Unsupervised)\n",
    "\n",
    "In this final phase, we implemented **unsupervised anomaly detection** to flag potentially fraudulent insurance claims **without relying on labeled data**.\n",
    "\n",
    "---\n",
    "\n",
    "## 🔍 Objective:\n",
    "Detect outliers in the dataset using behavior-based features such as:\n",
    "- `total_claim_amount`\n",
    "- `vehicle_claim`, `injury_claim`, `property_claim`\n",
    "- `injury_to_total_ratio`, `vehicle_to_total_ratio`\n",
    "- `months_as_customer`, `is_large_claim`\n",
    "\n",
    "---\n",
    "\n",
    "## ⚙️ Model Used:\n",
    "### ✅ **Isolation Forest**\n",
    "- **Algorithm**: Tree-based isolation of anomalies\n",
    "- **Contamination**: 5% (`contamination=0.05`)\n",
    "- **Result**: 50 out of 1,000 claims flagged as anomalies\n",
    "\n",
    "---\n",
    "\n",
    "## 📊 Key Results:\n",
    "\n",
    "### 1. **Anomaly Score Distribution**\n",
    "- Most claims had positive scores (normal)\n",
    "- Claims with lower (negative) scores were flagged as suspicious\n",
    "\n",
    "### 2. **Classification Breakdown**\n",
    "| Label     | Count |\n",
    "|-----------|-------|\n",
    "| Normal    | 950   |\n",
    "| Anomalous | 50    |\n",
    "\n",
    "### 3. **Visuals Produced**\n",
    "- Histogram of anomaly scores\n",
    "- Bar chart of anomaly classifications\n",
    "\n",
    "---\n",
    "\n",
    "## ✅ Outcome:\n",
    "- Isolation Forest effectively flagged **50 claims** as statistically suspicious\n",
    "- These can be prioritized for **manual review** or integrated into a **fraud scoring system**\n",
    "\n",
    "---\n",
    "\n",
    "## 📦 Next Steps (Optional):\n",
    "- Export anomalies to a CSV for deeper inspection\n",
    "- Compare results using `OneClassSVM` or deep-learning-based **Autoencoder**\n",
    "- Use anomaly scores as a new feature in supervised fraud models\n",
    "\n"
   ]
  }
 ],
 "metadata": {
  "kernelspec": {
   "display_name": "base",
   "language": "python",
   "name": "python3"
  },
  "language_info": {
   "codemirror_mode": {
    "name": "ipython",
    "version": 3
   },
   "file_extension": ".py",
   "mimetype": "text/x-python",
   "name": "python",
   "nbconvert_exporter": "python",
   "pygments_lexer": "ipython3",
   "version": "3.10.9"
  }
 },
 "nbformat": 4,
 "nbformat_minor": 5
}
